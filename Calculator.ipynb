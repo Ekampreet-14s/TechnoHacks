{
  "nbformat": 4,
  "nbformat_minor": 0,
  "metadata": {
    "colab": {
      "provenance": [],
      "authorship_tag": "ABX9TyMEqr9fG+31/jnDcM7YOw/3",
      "include_colab_link": true
    },
    "kernelspec": {
      "name": "python3",
      "display_name": "Python 3"
    },
    "language_info": {
      "name": "python"
    }
  },
  "cells": [
    {
      "cell_type": "markdown",
      "metadata": {
        "id": "view-in-github",
        "colab_type": "text"
      },
      "source": [
        "<a href=\"https://colab.research.google.com/github/Ekampreet-14s/TechnoHacks/blob/main/Calculator.ipynb\" target=\"_parent\"><img src=\"https://colab.research.google.com/assets/colab-badge.svg\" alt=\"Open In Colab\"/></a>"
      ]
    },
    {
      "cell_type": "code",
      "execution_count": 1,
      "metadata": {
        "colab": {
          "base_uri": "https://localhost:8080/"
        },
        "id": "46w4EM4epUyf",
        "outputId": "dd24f9cb-0d98-46e3-c253-879ed0ec8e4f"
      },
      "outputs": [
        {
          "name": "stdout",
          "output_type": "stream",
          "text": [
            "Basic Calculator\n",
            "Options:\n",
            "Enter 'add' for addition\n",
            "Enter 'subtract' for subtraction\n",
            "Enter 'multiply' for multiplication\n",
            "Enter 'divide' for division\n",
            "Enter 'quit' to end the program\n",
            ": add\n",
            "Enter first number: 5\n",
            "Enter second number: 7\n",
            "Result: 12.0\n",
            "Options:\n",
            "Enter 'add' for addition\n",
            "Enter 'subtract' for subtraction\n",
            "Enter 'multiply' for multiplication\n",
            "Enter 'divide' for division\n",
            "Enter 'quit' to end the program\n",
            ": subtract\n",
            "Enter first number: 67\n",
            "Enter second number: 42\n",
            "Result: 25.0\n",
            "Options:\n",
            "Enter 'add' for addition\n",
            "Enter 'subtract' for subtraction\n",
            "Enter 'multiply' for multiplication\n",
            "Enter 'divide' for division\n",
            "Enter 'quit' to end the program\n",
            ": multiply\n",
            "Enter first number: 4\n",
            "Enter second number: 8\n",
            "Result: 32.0\n",
            "Options:\n",
            "Enter 'add' for addition\n",
            "Enter 'subtract' for subtraction\n",
            "Enter 'multiply' for multiplication\n",
            "Enter 'divide' for division\n",
            "Enter 'quit' to end the program\n",
            ": divide\n",
            "Enter first number: 50\n",
            "Enter second number: 4\n",
            "Result: 12.5\n",
            "Options:\n",
            "Enter 'add' for addition\n",
            "Enter 'subtract' for subtraction\n",
            "Enter 'multiply' for multiplication\n",
            "Enter 'divide' for division\n",
            "Enter 'quit' to end the program\n",
            ": quit\n"
          ]
        }
      ],
      "source": [
        "# Function to perform addition\n",
        "def add(x, y):\n",
        "    return x + y\n",
        "\n",
        "# Function to perform subtraction\n",
        "def subtract(x, y):\n",
        "    return x - y\n",
        "\n",
        "# Function to perform multiplication\n",
        "def multiply(x, y):\n",
        "    return x * y\n",
        "\n",
        "# Function to perform division\n",
        "def divide(x, y):\n",
        "    if y == 0:\n",
        "        return \"Division by zero is not allowed.\"\n",
        "    return x / y\n",
        "\n",
        "def main():\n",
        "    print(\"Basic Calculator\")\n",
        "    while True:\n",
        "        print(\"Options:\")\n",
        "        print(\"Enter 'add' for addition\")\n",
        "        print(\"Enter 'subtract' for subtraction\")\n",
        "        print(\"Enter 'multiply' for multiplication\")\n",
        "        print(\"Enter 'divide' for division\")\n",
        "        print(\"Enter 'quit' to end the program\")\n",
        "\n",
        "        user_input = input(\": \")\n",
        "\n",
        "        if user_input == \"quit\":\n",
        "            break\n",
        "\n",
        "        if user_input in [\"add\", \"subtract\", \"multiply\", \"divide\"]:\n",
        "            num1 = float(input(\"Enter first number: \"))\n",
        "            num2 = float(input(\"Enter second number: \"))\n",
        "\n",
        "            if user_input == \"add\":\n",
        "                print(\"Result:\", add(num1, num2))\n",
        "            elif user_input == \"subtract\":\n",
        "                print(\"Result:\", subtract(num1, num2))\n",
        "            elif user_input == \"multiply\":\n",
        "                print(\"Result:\", multiply(num1, num2))\n",
        "            elif user_input == \"divide\":\n",
        "                result = divide(num1, num2)\n",
        "                print(\"Result:\", result)\n",
        "            else:\n",
        "                print(\"Invalid input.\")\n",
        "        else:\n",
        "            print(\"Invalid input. Please enter a valid operation.\")\n",
        "\n",
        "if __name__ == \"__main__\":\n",
        "    main()\n"
      ]
    }
  ]
}