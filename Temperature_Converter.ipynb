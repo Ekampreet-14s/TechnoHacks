{
  "cells": [
    {
      "cell_type": "code",
      "execution_count": null,
      "metadata": {
        "colab": {
          "base_uri": "https://localhost:8080/"
        },
        "id": "xdKc-OmlCAEf",
        "outputId": "59edf7e0-f7bd-478e-f702-e8dbab57094e"
      },
      "outputs": [
        {
          "name": "stdout",
          "output_type": "stream",
          "text": [
            "1. Fahrenheit to Celsius\n",
            "2. Celsius to Fahrenheit\n",
            "3. Quit\n",
            "Select an option (1/2/3): 1\n",
            "Enter temperature in Fahrenheit: 98.5\n",
            "Temperature in Celsius: 36.94444444444444\n",
            "1. Fahrenheit to Celsius\n",
            "2. Celsius to Fahrenheit\n",
            "3. Quit\n"
          ]
        }
      ],
      "source": [
        "def fahrenheit_to_celsius(fahrenheit):\n",
        "    celsius = (fahrenheit - 32) * 5.0/9.0\n",
        "    return celsius\n",
        "\n",
        "def celsius_to_fahrenheit(celsius):\n",
        "    fahrenheit = celsius * 9.0/5.0 + 32\n",
        "    return fahrenheit\n",
        "\n",
        "def main():\n",
        "    while True:\n",
        "        print(\"1. Fahrenheit to Celsius\")\n",
        "        print(\"2. Celsius to Fahrenheit\")\n",
        "        print(\"3. Quit\")\n",
        "\n",
        "        choice = input(\"Select an option (1/2/3): \")\n",
        "\n",
        "        if choice == '1':\n",
        "            fahrenheit = float(input(\"Enter temperature in Fahrenheit: \"))\n",
        "            celsius = fahrenheit_to_celsius(fahrenheit)\n",
        "            print(\"Temperature in Celsius:\", celsius)\n",
        "        elif choice == '2':\n",
        "            celsius = float(input(\"Enter temperature in Celsius: \"))\n",
        "            fahrenheit = celsius_to_fahrenheit(celsius)\n",
        "            print(\"Temperature in Fahrenheit:\", fahrenheit)\n",
        "        elif choice == '3':\n",
        "            print(\"Thank you for using the temperature converter!\")\n",
        "            break\n",
        "        else:\n",
        "            print(\"Invalid choice. Please select a valid option.\")\n",
        "\n",
        "if __name__ == \"__main__\":\n",
        "    main()\n"
      ]
    }
  ],
  "metadata": {
    "colab": {
      "provenance": []
    },
    "kernelspec": {
      "display_name": "Python 3",
      "name": "python3"
    },
    "language_info": {
      "name": "python"
    }
  },
  "nbformat": 4,
  "nbformat_minor": 0
}